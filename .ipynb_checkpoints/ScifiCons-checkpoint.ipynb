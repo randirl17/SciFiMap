{
 "cells": [
  {
   "cell_type": "code",
   "execution_count": 130,
   "metadata": {
    "collapsed": false
   },
   "outputs": [],
   "source": [
    "import urllib.request\n",
    "from bs4 import BeautifulSoup\n",
    "from pandas import DataFrame"
   ]
  },
  {
   "cell_type": "code",
   "execution_count": 62,
   "metadata": {
    "collapsed": true
   },
   "outputs": [],
   "source": [
    "url = 'https://en.wikipedia.org/wiki/List_of_science_fiction_conventions'"
   ]
  },
  {
   "cell_type": "code",
   "execution_count": 63,
   "metadata": {
    "collapsed": false
   },
   "outputs": [],
   "source": [
    "ufile = urllib.request.urlopen(url)"
   ]
  },
  {
   "cell_type": "code",
   "execution_count": 64,
   "metadata": {
    "collapsed": true
   },
   "outputs": [],
   "source": [
    "newtext = str(ufile.read())"
   ]
  },
  {
   "cell_type": "code",
   "execution_count": 65,
   "metadata": {
    "collapsed": true
   },
   "outputs": [],
   "source": [
    "soup = BeautifulSoup(newtext,'lxml')"
   ]
  },
  {
   "cell_type": "code",
   "execution_count": 179,
   "metadata": {
    "collapsed": false
   },
   "outputs": [],
   "source": [
    "data = []\n",
    "table = soup.find('table', attrs={'class':'wikitable sortable'})\n",
    "rows = table.find_all('tr')\n",
    "for row in rows:\n",
    "    colsraw = row.find_all('td')\n",
    "    cols = [ele.text.strip() for ele in colsraw]\n",
    "    for elem in cols:\n",
    "        if elem.startswith('['): elem = colsraw[4].a.get('href')\n",
    "    data.append(cols)"
   ]
  },
  {
   "cell_type": "code",
   "execution_count": 180,
   "metadata": {
    "collapsed": true
   },
   "outputs": [],
   "source": [
    "colsraw = row.find_all('td')"
   ]
  },
  {
   "cell_type": "code",
   "execution_count": 181,
   "metadata": {
    "collapsed": false
   },
   "outputs": [
    {
     "data": {
      "text/plain": [
       "'http://www.worldcon.org/'"
      ]
     },
     "execution_count": 181,
     "metadata": {},
     "output_type": "execute_result"
    }
   ],
   "source": [
    "colsraw[4].a.get('href')"
   ]
  },
  {
   "cell_type": "code",
   "execution_count": 184,
   "metadata": {
    "collapsed": true
   },
   "outputs": [],
   "source": [
    "cols = [ele.text.strip() for ele in colsraw]"
   ]
  },
  {
   "cell_type": "code",
   "execution_count": 185,
   "metadata": {
    "collapsed": false
   },
   "outputs": [
    {
     "data": {
      "text/plain": [
       "['Worldcon', 'Various', '', 'SF/General', '[130]', '2015-08-19']"
      ]
     },
     "execution_count": 185,
     "metadata": {},
     "output_type": "execute_result"
    }
   ],
   "source": [
    "cols"
   ]
  },
  {
   "cell_type": "code",
   "execution_count": 187,
   "metadata": {
    "collapsed": false
   },
   "outputs": [],
   "source": [
    "cols[4] = colsraw[4].a.get('href')"
   ]
  },
  {
   "cell_type": "code",
   "execution_count": null,
   "metadata": {
    "collapsed": false
   },
   "outputs": [],
   "source": []
  },
  {
   "cell_type": "code",
   "execution_count": 183,
   "metadata": {
    "collapsed": false,
    "scrolled": true
   },
   "outputs": [
    {
     "data": {
      "text/plain": [
       "[['WisCon', 'Madison, Wisconsin', 'USA', 'General', '[126]', '2015-05-22'],\n",
       " ['Wizard World', 'Various', 'USA', 'Media', '[127]', 'Various'],\n",
       " ['WonderCon',\n",
       "  'Los Angeles, California',\n",
       "  'USA',\n",
       "  'SF/F',\n",
       "  '[128]',\n",
       "  '2015-04-03'],\n",
       " ['World Fantasy Convention',\n",
       "  'Saratoga Springs, New York',\n",
       "  'USA',\n",
       "  'Fantasy',\n",
       "  '[129]',\n",
       "  '2015-11-05'],\n",
       " ['Worldcon', 'Various', '', 'SF/General', '[130]', '2015-08-19']]"
      ]
     },
     "execution_count": 183,
     "metadata": {},
     "output_type": "execute_result"
    }
   ],
   "source": [
    "data[-5:]"
   ]
  },
  {
   "cell_type": "code",
   "execution_count": 131,
   "metadata": {
    "collapsed": false
   },
   "outputs": [],
   "source": [
    "df = DataFrame(data)"
   ]
  },
  {
   "cell_type": "code",
   "execution_count": 139,
   "metadata": {
    "collapsed": false
   },
   "outputs": [
    {
     "data": {
      "text/html": [
       "<div>\n",
       "<table border=\"1\" class=\"dataframe\">\n",
       "  <thead>\n",
       "    <tr style=\"text-align: right;\">\n",
       "      <th></th>\n",
       "      <th>0</th>\n",
       "      <th>1</th>\n",
       "      <th>2</th>\n",
       "      <th>3</th>\n",
       "      <th>4</th>\n",
       "      <th>5</th>\n",
       "    </tr>\n",
       "  </thead>\n",
       "  <tbody>\n",
       "    <tr>\n",
       "      <th>132</th>\n",
       "      <td>WisCon</td>\n",
       "      <td>Madison, Wisconsin</td>\n",
       "      <td>USA</td>\n",
       "      <td>General</td>\n",
       "      <td>[126]</td>\n",
       "      <td>2015-05-22</td>\n",
       "    </tr>\n",
       "    <tr>\n",
       "      <th>133</th>\n",
       "      <td>Wizard World</td>\n",
       "      <td>Various</td>\n",
       "      <td>USA</td>\n",
       "      <td>Media</td>\n",
       "      <td>[127]</td>\n",
       "      <td>Various</td>\n",
       "    </tr>\n",
       "    <tr>\n",
       "      <th>134</th>\n",
       "      <td>WonderCon</td>\n",
       "      <td>Los Angeles, California</td>\n",
       "      <td>USA</td>\n",
       "      <td>SF/F</td>\n",
       "      <td>[128]</td>\n",
       "      <td>2015-04-03</td>\n",
       "    </tr>\n",
       "    <tr>\n",
       "      <th>135</th>\n",
       "      <td>World Fantasy Convention</td>\n",
       "      <td>Saratoga Springs, New York</td>\n",
       "      <td>USA</td>\n",
       "      <td>Fantasy</td>\n",
       "      <td>[129]</td>\n",
       "      <td>2015-11-05</td>\n",
       "    </tr>\n",
       "    <tr>\n",
       "      <th>136</th>\n",
       "      <td>Worldcon</td>\n",
       "      <td>Various</td>\n",
       "      <td>SF/General</td>\n",
       "      <td>[130]</td>\n",
       "      <td>2015-08-19</td>\n",
       "      <td>None</td>\n",
       "    </tr>\n",
       "  </tbody>\n",
       "</table>\n",
       "</div>"
      ],
      "text/plain": [
       "                            0                           1           2  \\\n",
       "132                    WisCon          Madison, Wisconsin         USA   \n",
       "133              Wizard World                     Various         USA   \n",
       "134                 WonderCon     Los Angeles, California         USA   \n",
       "135  World Fantasy Convention  Saratoga Springs, New York         USA   \n",
       "136                  Worldcon                     Various  SF/General   \n",
       "\n",
       "           3           4           5  \n",
       "132  General       [126]  2015-05-22  \n",
       "133    Media       [127]     Various  \n",
       "134     SF/F       [128]  2015-04-03  \n",
       "135  Fantasy       [129]  2015-11-05  \n",
       "136    [130]  2015-08-19        None  "
      ]
     },
     "execution_count": 139,
     "metadata": {},
     "output_type": "execute_result"
    }
   ],
   "source": [
    "df[-5:]"
   ]
  },
  {
   "cell_type": "code",
   "execution_count": null,
   "metadata": {
    "collapsed": true
   },
   "outputs": [],
   "source": []
  },
  {
   "cell_type": "code",
   "execution_count": 67,
   "metadata": {
    "collapsed": false,
    "scrolled": true
   },
   "outputs": [
    {
     "data": {
      "text/plain": [
       "<tr>\\n<td><a href=\"/wiki/%C3%85con\" title=\"\\xc3\\x85con\">\\xc3\\x85con</a></td>\\n<td><a href=\"/wiki/Mariehamn\" title=\"Mariehamn\">Mariehamn</a>, <a class=\"mw-redirect\" href=\"/wiki/%C3%85land\" title=\"\\xc3\\x85land\">\\xc3\\x85land</a></td>\\n<td>Finland</td>\\n<td>SF/Fantasy literature</td>\\n<td><a class=\"external autonumber\" href=\"http://acon8.wordpress.com/\" rel=\"nofollow\">[1]</a></td>\\n<td>2016-05-05</td>\\n</tr>"
      ]
     },
     "execution_count": 67,
     "metadata": {},
     "output_type": "execute_result"
    }
   ],
   "source": [
    "match[1]"
   ]
  },
  {
   "cell_type": "code",
   "execution_count": 88,
   "metadata": {
    "collapsed": true
   },
   "outputs": [],
   "source": [
    "matchsoup = []"
   ]
  },
  {
   "cell_type": "code",
   "execution_count": 91,
   "metadata": {
    "collapsed": true
   },
   "outputs": [],
   "source": [
    "con = []\n",
    "place = []\n",
    "country = []\n",
    "contype = []\n",
    "website = []\n",
    "dateheld = []"
   ]
  },
  {
   "cell_type": "code",
   "execution_count": 99,
   "metadata": {
    "collapsed": false
   },
   "outputs": [
    {
     "ename": "IndexError",
     "evalue": "list index out of range",
     "output_type": "error",
     "traceback": [
      "\u001b[0;31m---------------------------------------------------------------------------\u001b[0m",
      "\u001b[0;31mIndexError\u001b[0m                                Traceback (most recent call last)",
      "\u001b[0;32m<ipython-input-99-09048c41eaae>\u001b[0m in \u001b[0;36m<module>\u001b[0;34m()\u001b[0m\n\u001b[1;32m      7\u001b[0m         \u001b[0mcon\u001b[0m\u001b[0;34m.\u001b[0m\u001b[0mappend\u001b[0m\u001b[0;34m(\u001b[0m\u001b[0mtabmatch\u001b[0m\u001b[0;34m[\u001b[0m\u001b[0;36m0\u001b[0m\u001b[0;34m]\u001b[0m\u001b[0;34m)\u001b[0m\u001b[0;34m\u001b[0m\u001b[0m\n\u001b[1;32m      8\u001b[0m         \u001b[0mplace\u001b[0m\u001b[0;34m.\u001b[0m\u001b[0mappend\u001b[0m\u001b[0;34m(\u001b[0m\u001b[0mtabmatch\u001b[0m\u001b[0;34m[\u001b[0m\u001b[0;36m1\u001b[0m\u001b[0;34m]\u001b[0m\u001b[0;34m)\u001b[0m\u001b[0;34m\u001b[0m\u001b[0m\n\u001b[0;32m----> 9\u001b[0;31m         \u001b[0;32mif\u001b[0m \u001b[0mtabmatch\u001b[0m\u001b[0;34m[\u001b[0m\u001b[0;36m2\u001b[0m\u001b[0;34m]\u001b[0m \u001b[0;34m==\u001b[0m \u001b[0;34m''\u001b[0m\u001b[0;34m:\u001b[0m \u001b[0mcountry\u001b[0m\u001b[0;34m.\u001b[0m\u001b[0mappend\u001b[0m\u001b[0;34m(\u001b[0m\u001b[0;34m''\u001b[0m\u001b[0;34m)\u001b[0m\u001b[0;34m\u001b[0m\u001b[0m\n\u001b[0m\u001b[1;32m     10\u001b[0m         \u001b[0mcountry\u001b[0m\u001b[0;34m.\u001b[0m\u001b[0mappend\u001b[0m\u001b[0;34m(\u001b[0m\u001b[0mtabmatch\u001b[0m\u001b[0;34m[\u001b[0m\u001b[0;36m2\u001b[0m\u001b[0;34m]\u001b[0m\u001b[0;34m)\u001b[0m\u001b[0;34m\u001b[0m\u001b[0m\n\u001b[1;32m     11\u001b[0m         \u001b[0;32mif\u001b[0m \u001b[0;34m'href'\u001b[0m \u001b[0;32min\u001b[0m \u001b[0mtabmatch\u001b[0m\u001b[0;34m[\u001b[0m\u001b[0;36m3\u001b[0m\u001b[0;34m]\u001b[0m\u001b[0;34m:\u001b[0m \u001b[0;31m#some websites are missing\u001b[0m\u001b[0;34m\u001b[0m\u001b[0m\n",
      "\u001b[0;31mIndexError\u001b[0m: list index out of range"
     ]
    }
   ],
   "source": [
    "for matches in match:\n",
    "    match1soup = BeautifulSoup(str(matches),'lxml')\n",
    "    tabmatch = match1soup.find_all('td')\n",
    "#    print(tabmatch)\n",
    "    if len(tabmatch) > 1:\n",
    "        matchsoup.append(tabmatch)\n",
    "        con.append(tabmatch[0])\n",
    "        place.append(tabmatch[1])\n",
    "        if tabmatch[2] == '': country.append('')\n",
    "        country.append(tabmatch[2])\n",
    "        if 'href' in tabmatch[3]: #some websites are missing\n",
    "            website.append(tabmatch[3])\n",
    "            dateheld.append(tabmatch[4])\n",
    "        else: \n",
    "            website.append('')\n",
    "            dateheld.append(tabmatch[3])"
   ]
  },
  {
   "cell_type": "code",
   "execution_count": 95,
   "metadata": {
    "collapsed": false
   },
   "outputs": [
    {
     "data": {
      "text/plain": [
       "[]"
      ]
     },
     "execution_count": 95,
     "metadata": {},
     "output_type": "execute_result"
    }
   ],
   "source": [
    "tabmatch"
   ]
  },
  {
   "cell_type": "markdown",
   "metadata": {},
   "source": [
    "Each row of the table has the same number of cells as follows:\n",
    "* [0] Con Name, as a link\n",
    "* [1] Location, as a link\n",
    "* [2] Country\n",
    "* [3] Type of con\n",
    "* [4] Website\n",
    "* [5] Date held"
   ]
  },
  {
   "cell_type": "code",
   "execution_count": null,
   "metadata": {
    "collapsed": true
   },
   "outputs": [],
   "source": []
  },
  {
   "cell_type": "code",
   "execution_count": 72,
   "metadata": {
    "collapsed": false
   },
   "outputs": [
    {
     "data": {
      "text/plain": [
       "'Finland'"
      ]
     },
     "execution_count": 72,
     "metadata": {},
     "output_type": "execute_result"
    }
   ],
   "source": [
    "tabmatch[2].next_element"
   ]
  },
  {
   "cell_type": "code",
   "execution_count": 73,
   "metadata": {
    "collapsed": true
   },
   "outputs": [],
   "source": [
    "if 'USA' in tabmatch[2]:\n",
    "    print,\"USA\""
   ]
  },
  {
   "cell_type": "code",
   "execution_count": null,
   "metadata": {
    "collapsed": true
   },
   "outputs": [],
   "source": []
  }
 ],
 "metadata": {
  "kernelspec": {
   "display_name": "Python 3",
   "language": "python",
   "name": "python3"
  },
  "language_info": {
   "codemirror_mode": {
    "name": "ipython",
    "version": 3
   },
   "file_extension": ".py",
   "mimetype": "text/x-python",
   "name": "python",
   "nbconvert_exporter": "python",
   "pygments_lexer": "ipython3",
   "version": "3.5.1"
  }
 },
 "nbformat": 4,
 "nbformat_minor": 0
}
