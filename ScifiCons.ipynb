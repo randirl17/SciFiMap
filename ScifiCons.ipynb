{
 "cells": [
  {
   "cell_type": "code",
   "execution_count": 1,
   "metadata": {
    "collapsed": true
   },
   "outputs": [],
   "source": [
    "import urllib.request\n",
    "from bs4 import BeautifulSoup"
   ]
  },
  {
   "cell_type": "code",
   "execution_count": 3,
   "metadata": {
    "collapsed": true
   },
   "outputs": [],
   "source": [
    "url = 'https://en.wikipedia.org/wiki/List_of_science_fiction_conventions'"
   ]
  },
  {
   "cell_type": "code",
   "execution_count": 23,
   "metadata": {
    "collapsed": false
   },
   "outputs": [],
   "source": [
    "ufile = urllib.request.urlopen(url)"
   ]
  },
  {
   "cell_type": "code",
   "execution_count": 24,
   "metadata": {
    "collapsed": true
   },
   "outputs": [],
   "source": [
    "newtext = str(ufile.read())"
   ]
  },
  {
   "cell_type": "code",
   "execution_count": 25,
   "metadata": {
    "collapsed": true
   },
   "outputs": [],
   "source": [
    "soup = BeautifulSoup(newtext,'lxml')"
   ]
  },
  {
   "cell_type": "code",
   "execution_count": 39,
   "metadata": {
    "collapsed": false
   },
   "outputs": [
    {
     "data": {
      "text/plain": [
       "'Convention'"
      ]
     },
     "execution_count": 39,
     "metadata": {},
     "output_type": "execute_result"
    }
   ],
   "source": [
    "soup.th.next_element"
   ]
  },
  {
   "cell_type": "code",
   "execution_count": 41,
   "metadata": {
    "collapsed": false
   },
   "outputs": [],
   "source": [
    "match = soup.find_all('tr')"
   ]
  },
  {
   "cell_type": "code",
   "execution_count": 43,
   "metadata": {
    "collapsed": false,
    "scrolled": true
   },
   "outputs": [
    {
     "data": {
      "text/plain": [
       "<tr>\\n<td><a href=\"/wiki/%C3%85con\" title=\"\\xc3\\x85con\">\\xc3\\x85con</a></td>\\n<td><a href=\"/wiki/Mariehamn\" title=\"Mariehamn\">Mariehamn</a>, <a class=\"mw-redirect\" href=\"/wiki/%C3%85land\" title=\"\\xc3\\x85land\">\\xc3\\x85land</a></td>\\n<td>Finland</td>\\n<td>SF/Fantasy literature</td>\\n<td><a class=\"external autonumber\" href=\"http://acon8.wordpress.com/\" rel=\"nofollow\">[1]</a></td>\\n<td>2016-05-05</td>\\n</tr>"
      ]
     },
     "execution_count": 43,
     "metadata": {},
     "output_type": "execute_result"
    }
   ],
   "source": [
    "match[1]"
   ]
  },
  {
   "cell_type": "code",
   "execution_count": 45,
   "metadata": {
    "collapsed": false
   },
   "outputs": [],
   "source": [
    "matchsoup = BeautifulSoup(str(match[1]),'lxml')"
   ]
  },
  {
   "cell_type": "code",
   "execution_count": 51,
   "metadata": {
    "collapsed": false
   },
   "outputs": [
    {
     "data": {
      "text/plain": [
       "<html><body><tr>\\n<td><a href=\"/wiki/%C3%85con\" title=\"\\xc3\\x85con\">\\xc3\\x85con</a></td>\\n<td><a href=\"/wiki/Mariehamn\" title=\"Mariehamn\">Mariehamn</a>, <a class=\"mw-redirect\" href=\"/wiki/%C3%85land\" title=\"\\xc3\\x85land\">\\xc3\\x85land</a></td>\\n<td>Finland</td>\\n<td>SF/Fantasy literature</td>\\n<td><a class=\"external autonumber\" href=\"http://acon8.wordpress.com/\" rel=\"nofollow\">[1]</a></td>\\n<td>2016-05-05</td>\\n</tr></body></html>"
      ]
     },
     "execution_count": 51,
     "metadata": {},
     "output_type": "execute_result"
    }
   ],
   "source": [
    "matchsoup"
   ]
  },
  {
   "cell_type": "code",
   "execution_count": 52,
   "metadata": {
    "collapsed": true
   },
   "outputs": [],
   "source": [
    "tabmatch = matchsoup.find_all('td')"
   ]
  },
  {
   "cell_type": "code",
   "execution_count": 54,
   "metadata": {
    "collapsed": false
   },
   "outputs": [
    {
     "data": {
      "text/plain": [
       "[<td><a href=\"/wiki/%C3%85con\" title=\"\\xc3\\x85con\">\\xc3\\x85con</a></td>,\n",
       " <td><a href=\"/wiki/Mariehamn\" title=\"Mariehamn\">Mariehamn</a>, <a class=\"mw-redirect\" href=\"/wiki/%C3%85land\" title=\"\\xc3\\x85land\">\\xc3\\x85land</a></td>,\n",
       " <td>Finland</td>,\n",
       " <td>SF/Fantasy literature</td>,\n",
       " <td><a class=\"external autonumber\" href=\"http://acon8.wordpress.com/\" rel=\"nofollow\">[1]</a></td>,\n",
       " <td>2016-05-05</td>]"
      ]
     },
     "execution_count": 54,
     "metadata": {},
     "output_type": "execute_result"
    }
   ],
   "source": [
    "tabmatch"
   ]
  },
  {
   "cell_type": "markdown",
   "metadata": {},
   "source": [
    "Each row of the table has the same number of cells.  The country info is in cell[2]."
   ]
  },
  {
   "cell_type": "code",
   "execution_count": 59,
   "metadata": {
    "collapsed": false
   },
   "outputs": [
    {
     "data": {
      "text/plain": [
       "'Finland'"
      ]
     },
     "execution_count": 59,
     "metadata": {},
     "output_type": "execute_result"
    }
   ],
   "source": [
    "tabmatch[2].next_element"
   ]
  },
  {
   "cell_type": "code",
   "execution_count": 60,
   "metadata": {
    "collapsed": true
   },
   "outputs": [],
   "source": [
    "if 'USA' in tabmatch[2]:\n",
    "    print,\"USA\""
   ]
  },
  {
   "cell_type": "code",
   "execution_count": null,
   "metadata": {
    "collapsed": true
   },
   "outputs": [],
   "source": []
  }
 ],
 "metadata": {
  "kernelspec": {
   "display_name": "Python 3",
   "language": "python",
   "name": "python3"
  },
  "language_info": {
   "codemirror_mode": {
    "name": "ipython",
    "version": 3
   },
   "file_extension": ".py",
   "mimetype": "text/x-python",
   "name": "python",
   "nbconvert_exporter": "python",
   "pygments_lexer": "ipython3",
   "version": "3.5.1"
  }
 },
 "nbformat": 4,
 "nbformat_minor": 0
}
