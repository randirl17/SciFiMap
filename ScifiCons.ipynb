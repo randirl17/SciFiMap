{
 "cells": [
  {
   "cell_type": "code",
   "execution_count": 232,
   "metadata": {
    "collapsed": false
   },
   "outputs": [],
   "source": [
    "import urllib.request\n",
    "from bs4 import BeautifulSoup\n",
    "from pandas import DataFrame\n",
    "import numpy as np\n",
    "from geopy.geocoders import Nominatim"
   ]
  },
  {
   "cell_type": "code",
   "execution_count": 62,
   "metadata": {
    "collapsed": true
   },
   "outputs": [],
   "source": [
    "url = 'https://en.wikipedia.org/wiki/List_of_science_fiction_conventions'"
   ]
  },
  {
   "cell_type": "code",
   "execution_count": 63,
   "metadata": {
    "collapsed": false
   },
   "outputs": [],
   "source": [
    "ufile = urllib.request.urlopen(url)"
   ]
  },
  {
   "cell_type": "code",
   "execution_count": 64,
   "metadata": {
    "collapsed": true
   },
   "outputs": [],
   "source": [
    "newtext = str(ufile.read())"
   ]
  },
  {
   "cell_type": "code",
   "execution_count": 65,
   "metadata": {
    "collapsed": true
   },
   "outputs": [],
   "source": [
    "soup = BeautifulSoup(newtext,'lxml')"
   ]
  },
  {
   "cell_type": "code",
   "execution_count": 196,
   "metadata": {
    "collapsed": false
   },
   "outputs": [],
   "source": [
    "data = []\n",
    "table = soup.find('table', attrs={'class':'wikitable sortable'})\n",
    "rows = table.find_all('tr')\n",
    "realrows = rows[1:]\n",
    "for row in realrows:\n",
    "    colsraw = row.find_all('td')\n",
    "    cols = [ele.text.strip() for ele in colsraw]\n",
    "    if colsraw[4].a:  cols[4] = colsraw[4].a.get('href') \n",
    "    data.append(cols)"
   ]
  },
  {
   "cell_type": "code",
   "execution_count": 199,
   "metadata": {
    "collapsed": false
   },
   "outputs": [],
   "source": [
    "df = DataFrame(data)"
   ]
  },
  {
   "cell_type": "code",
   "execution_count": 200,
   "metadata": {
    "collapsed": false
   },
   "outputs": [
    {
     "data": {
      "text/html": [
       "<div>\n",
       "<table border=\"1\" class=\"dataframe\">\n",
       "  <thead>\n",
       "    <tr style=\"text-align: right;\">\n",
       "      <th></th>\n",
       "      <th>0</th>\n",
       "      <th>1</th>\n",
       "      <th>2</th>\n",
       "      <th>3</th>\n",
       "      <th>4</th>\n",
       "      <th>5</th>\n",
       "    </tr>\n",
       "  </thead>\n",
       "  <tbody>\n",
       "    <tr>\n",
       "      <th>131</th>\n",
       "      <td>WisCon</td>\n",
       "      <td>Madison, Wisconsin</td>\n",
       "      <td>USA</td>\n",
       "      <td>General</td>\n",
       "      <td>http://www.wiscon.info</td>\n",
       "      <td>2015-05-22</td>\n",
       "    </tr>\n",
       "    <tr>\n",
       "      <th>132</th>\n",
       "      <td>Wizard World</td>\n",
       "      <td>Various</td>\n",
       "      <td>USA</td>\n",
       "      <td>Media</td>\n",
       "      <td>http://www.wizardworld.com/</td>\n",
       "      <td>Various</td>\n",
       "    </tr>\n",
       "    <tr>\n",
       "      <th>133</th>\n",
       "      <td>WonderCon</td>\n",
       "      <td>Los Angeles, California</td>\n",
       "      <td>USA</td>\n",
       "      <td>SF/F</td>\n",
       "      <td>http://www.comic-con.org/wc</td>\n",
       "      <td>2015-04-03</td>\n",
       "    </tr>\n",
       "    <tr>\n",
       "      <th>134</th>\n",
       "      <td>World Fantasy Convention</td>\n",
       "      <td>Saratoga Springs, New York</td>\n",
       "      <td>USA</td>\n",
       "      <td>Fantasy</td>\n",
       "      <td>http://www.worldfantasy.org/</td>\n",
       "      <td>2015-11-05</td>\n",
       "    </tr>\n",
       "    <tr>\n",
       "      <th>135</th>\n",
       "      <td>Worldcon</td>\n",
       "      <td>Various</td>\n",
       "      <td></td>\n",
       "      <td>SF/General</td>\n",
       "      <td>http://www.worldcon.org/</td>\n",
       "      <td>2015-08-19</td>\n",
       "    </tr>\n",
       "  </tbody>\n",
       "</table>\n",
       "</div>"
      ],
      "text/plain": [
       "                            0                           1    2           3  \\\n",
       "131                    WisCon          Madison, Wisconsin  USA     General   \n",
       "132              Wizard World                     Various  USA       Media   \n",
       "133                 WonderCon     Los Angeles, California  USA        SF/F   \n",
       "134  World Fantasy Convention  Saratoga Springs, New York  USA     Fantasy   \n",
       "135                  Worldcon                     Various       SF/General   \n",
       "\n",
       "                                4           5  \n",
       "131        http://www.wiscon.info  2015-05-22  \n",
       "132   http://www.wizardworld.com/     Various  \n",
       "133   http://www.comic-con.org/wc  2015-04-03  \n",
       "134  http://www.worldfantasy.org/  2015-11-05  \n",
       "135      http://www.worldcon.org/  2015-08-19  "
      ]
     },
     "execution_count": 200,
     "metadata": {},
     "output_type": "execute_result"
    }
   ],
   "source": [
    "df[-5:]"
   ]
  },
  {
   "cell_type": "code",
   "execution_count": 207,
   "metadata": {
    "collapsed": false
   },
   "outputs": [],
   "source": [
    "domestic = df[(df=='USA').any(1)]"
   ]
  },
  {
   "cell_type": "code",
   "execution_count": 230,
   "metadata": {
    "collapsed": false
   },
   "outputs": [],
   "source": [
    "texan = domestic[domestic[1].str.contains('Texas')]"
   ]
  },
  {
   "cell_type": "code",
   "execution_count": 231,
   "metadata": {
    "collapsed": false
   },
   "outputs": [
    {
     "data": {
      "text/html": [
       "<div>\n",
       "<table border=\"1\" class=\"dataframe\">\n",
       "  <thead>\n",
       "    <tr style=\"text-align: right;\">\n",
       "      <th></th>\n",
       "      <th>0</th>\n",
       "      <th>1</th>\n",
       "      <th>2</th>\n",
       "      <th>3</th>\n",
       "      <th>4</th>\n",
       "      <th>5</th>\n",
       "    </tr>\n",
       "  </thead>\n",
       "  <tbody>\n",
       "    <tr>\n",
       "      <th>2</th>\n",
       "      <td>AggieCon</td>\n",
       "      <td>College Station, Texas</td>\n",
       "      <td>USA</td>\n",
       "      <td>General</td>\n",
       "      <td>http://aggiecon.tamu.edu/</td>\n",
       "      <td>2016-04-01</td>\n",
       "    </tr>\n",
       "    <tr>\n",
       "      <th>4</th>\n",
       "      <td>All-Con</td>\n",
       "      <td>Dallas, Texas</td>\n",
       "      <td>USA</td>\n",
       "      <td>General</td>\n",
       "      <td>http://www.all-con.net</td>\n",
       "      <td>2016-03-17</td>\n",
       "    </tr>\n",
       "    <tr>\n",
       "      <th>5</th>\n",
       "      <td>ApolloCon</td>\n",
       "      <td>Houston, Texas</td>\n",
       "      <td>USA</td>\n",
       "      <td>General</td>\n",
       "      <td>http://www.apollocon.org</td>\n",
       "      <td>2015-06-19</td>\n",
       "    </tr>\n",
       "    <tr>\n",
       "      <th>9</th>\n",
       "      <td>ArmadilloCon</td>\n",
       "      <td>Austin, Texas</td>\n",
       "      <td>USA</td>\n",
       "      <td>SF LIT</td>\n",
       "      <td>http://www.armadillocon.org</td>\n",
       "      <td>2015-07-24</td>\n",
       "    </tr>\n",
       "    <tr>\n",
       "      <th>26</th>\n",
       "      <td>ConDFW</td>\n",
       "      <td>Dallas, Texas</td>\n",
       "      <td>USA</td>\n",
       "      <td>SF LIT</td>\n",
       "      <td>http://www.condfw.org/</td>\n",
       "      <td>2016-02-12</td>\n",
       "    </tr>\n",
       "    <tr>\n",
       "      <th>50</th>\n",
       "      <td>FenCon</td>\n",
       "      <td>Dallas, Texas</td>\n",
       "      <td>USA</td>\n",
       "      <td>General</td>\n",
       "      <td>http://www.fencon.org</td>\n",
       "      <td>2015-09-25</td>\n",
       "    </tr>\n",
       "    <tr>\n",
       "      <th>67</th>\n",
       "      <td>Lazy Dragon Con</td>\n",
       "      <td>McKinney, Texas</td>\n",
       "      <td>USA</td>\n",
       "      <td>General</td>\n",
       "      <td>http://www.lazydragon.com/con/</td>\n",
       "      <td>2008-07-18</td>\n",
       "    </tr>\n",
       "    <tr>\n",
       "      <th>70</th>\n",
       "      <td>Linucon</td>\n",
       "      <td>Austin, Texas</td>\n",
       "      <td>USA</td>\n",
       "      <td>General</td>\n",
       "      <td></td>\n",
       "      <td>2005-09-30</td>\n",
       "    </tr>\n",
       "    <tr>\n",
       "      <th>121</th>\n",
       "      <td>UnCommonCon</td>\n",
       "      <td>Dallas, Texas</td>\n",
       "      <td>USA</td>\n",
       "      <td>SF/F</td>\n",
       "      <td></td>\n",
       "      <td>2000-11-24</td>\n",
       "    </tr>\n",
       "  </tbody>\n",
       "</table>\n",
       "</div>"
      ],
      "text/plain": [
       "                   0                       1    2        3  \\\n",
       "2           AggieCon  College Station, Texas  USA  General   \n",
       "4            All-Con           Dallas, Texas  USA  General   \n",
       "5          ApolloCon          Houston, Texas  USA  General   \n",
       "9       ArmadilloCon           Austin, Texas  USA   SF LIT   \n",
       "26            ConDFW           Dallas, Texas  USA   SF LIT   \n",
       "50            FenCon           Dallas, Texas  USA  General   \n",
       "67   Lazy Dragon Con         McKinney, Texas  USA  General   \n",
       "70           Linucon           Austin, Texas  USA  General   \n",
       "121      UnCommonCon           Dallas, Texas  USA     SF/F   \n",
       "\n",
       "                                  4           5  \n",
       "2         http://aggiecon.tamu.edu/  2016-04-01  \n",
       "4            http://www.all-con.net  2016-03-17  \n",
       "5          http://www.apollocon.org  2015-06-19  \n",
       "9       http://www.armadillocon.org  2015-07-24  \n",
       "26           http://www.condfw.org/  2016-02-12  \n",
       "50            http://www.fencon.org  2015-09-25  \n",
       "67   http://www.lazydragon.com/con/  2008-07-18  \n",
       "70                                   2005-09-30  \n",
       "121                                  2000-11-24  "
      ]
     },
     "execution_count": 231,
     "metadata": {},
     "output_type": "execute_result"
    }
   ],
   "source": [
    "texan"
   ]
  },
  {
   "cell_type": "code",
   "execution_count": 233,
   "metadata": {
    "collapsed": true
   },
   "outputs": [],
   "source": [
    "geolocator = Nominatim()"
   ]
  },
  {
   "cell_type": "code",
   "execution_count": 266,
   "metadata": {
    "collapsed": true
   },
   "outputs": [],
   "source": [
    "coords = []\n",
    "address = []\n",
    "county = []"
   ]
  },
  {
   "cell_type": "code",
   "execution_count": 267,
   "metadata": {
    "collapsed": false
   },
   "outputs": [],
   "source": [
    "for place in texan[1]:\n",
    "    location = geolocator.geocode(place)\n",
    "    coords.append([location.latitude,location.longitude])\n",
    "    address.append(location.address)"
   ]
  },
  {
   "cell_type": "code",
   "execution_count": 268,
   "metadata": {
    "collapsed": false
   },
   "outputs": [
    {
     "data": {
      "text/plain": [
       "[[30.6262616, -96.3347248],\n",
       " [32.7762719, -96.7968558],\n",
       " [29.7589382, -95.3676973],\n",
       " [30.2711286, -97.7436994],\n",
       " [32.7762719, -96.7968558],\n",
       " [32.7762719, -96.7968558],\n",
       " [33.1976496, -96.615447],\n",
       " [30.2711286, -97.7436994],\n",
       " [32.7762719, -96.7968558]]"
      ]
     },
     "execution_count": 268,
     "metadata": {},
     "output_type": "execute_result"
    }
   ],
   "source": [
    "coords"
   ]
  },
  {
   "cell_type": "code",
   "execution_count": 269,
   "metadata": {
    "collapsed": false
   },
   "outputs": [],
   "source": [
    "for line in address:\n",
    "    spec = line.split(',')\n",
    "    newspec = [bit.strip().replace(' County','') for bit in spec]\n",
    "    county.append(newspec[1])"
   ]
  },
  {
   "cell_type": "code",
   "execution_count": 270,
   "metadata": {
    "collapsed": false
   },
   "outputs": [
    {
     "data": {
      "text/plain": [
       "['Brazos',\n",
       " 'Dallas',\n",
       " 'Harris',\n",
       " 'Travis',\n",
       " 'Dallas',\n",
       " 'Dallas',\n",
       " 'Collin',\n",
       " 'Travis',\n",
       " 'Dallas']"
      ]
     },
     "execution_count": 270,
     "metadata": {},
     "output_type": "execute_result"
    }
   ],
   "source": [
    "county"
   ]
  },
  {
   "cell_type": "code",
   "execution_count": 273,
   "metadata": {
    "collapsed": false
   },
   "outputs": [],
   "source": [
    "txdata = DataFrame({'Con': texan[0], 'Location': texan[1],'County': county,'Coordinates': coords})"
   ]
  },
  {
   "cell_type": "code",
   "execution_count": 274,
   "metadata": {
    "collapsed": false
   },
   "outputs": [
    {
     "data": {
      "text/html": [
       "<div>\n",
       "<table border=\"1\" class=\"dataframe\">\n",
       "  <thead>\n",
       "    <tr style=\"text-align: right;\">\n",
       "      <th></th>\n",
       "      <th>Con</th>\n",
       "      <th>Coordinates</th>\n",
       "      <th>County</th>\n",
       "      <th>Location</th>\n",
       "    </tr>\n",
       "  </thead>\n",
       "  <tbody>\n",
       "    <tr>\n",
       "      <th>2</th>\n",
       "      <td>AggieCon</td>\n",
       "      <td>[30.6262616, -96.3347248]</td>\n",
       "      <td>Brazos</td>\n",
       "      <td>College Station, Texas</td>\n",
       "    </tr>\n",
       "    <tr>\n",
       "      <th>4</th>\n",
       "      <td>All-Con</td>\n",
       "      <td>[32.7762719, -96.7968558]</td>\n",
       "      <td>Dallas</td>\n",
       "      <td>Dallas, Texas</td>\n",
       "    </tr>\n",
       "    <tr>\n",
       "      <th>5</th>\n",
       "      <td>ApolloCon</td>\n",
       "      <td>[29.7589382, -95.3676973]</td>\n",
       "      <td>Harris</td>\n",
       "      <td>Houston, Texas</td>\n",
       "    </tr>\n",
       "    <tr>\n",
       "      <th>9</th>\n",
       "      <td>ArmadilloCon</td>\n",
       "      <td>[30.2711286, -97.7436994]</td>\n",
       "      <td>Travis</td>\n",
       "      <td>Austin, Texas</td>\n",
       "    </tr>\n",
       "    <tr>\n",
       "      <th>26</th>\n",
       "      <td>ConDFW</td>\n",
       "      <td>[32.7762719, -96.7968558]</td>\n",
       "      <td>Dallas</td>\n",
       "      <td>Dallas, Texas</td>\n",
       "    </tr>\n",
       "    <tr>\n",
       "      <th>50</th>\n",
       "      <td>FenCon</td>\n",
       "      <td>[32.7762719, -96.7968558]</td>\n",
       "      <td>Dallas</td>\n",
       "      <td>Dallas, Texas</td>\n",
       "    </tr>\n",
       "    <tr>\n",
       "      <th>67</th>\n",
       "      <td>Lazy Dragon Con</td>\n",
       "      <td>[33.1976496, -96.615447]</td>\n",
       "      <td>Collin</td>\n",
       "      <td>McKinney, Texas</td>\n",
       "    </tr>\n",
       "    <tr>\n",
       "      <th>70</th>\n",
       "      <td>Linucon</td>\n",
       "      <td>[30.2711286, -97.7436994]</td>\n",
       "      <td>Travis</td>\n",
       "      <td>Austin, Texas</td>\n",
       "    </tr>\n",
       "    <tr>\n",
       "      <th>121</th>\n",
       "      <td>UnCommonCon</td>\n",
       "      <td>[32.7762719, -96.7968558]</td>\n",
       "      <td>Dallas</td>\n",
       "      <td>Dallas, Texas</td>\n",
       "    </tr>\n",
       "  </tbody>\n",
       "</table>\n",
       "</div>"
      ],
      "text/plain": [
       "                 Con                Coordinates  County  \\\n",
       "2           AggieCon  [30.6262616, -96.3347248]  Brazos   \n",
       "4            All-Con  [32.7762719, -96.7968558]  Dallas   \n",
       "5          ApolloCon  [29.7589382, -95.3676973]  Harris   \n",
       "9       ArmadilloCon  [30.2711286, -97.7436994]  Travis   \n",
       "26            ConDFW  [32.7762719, -96.7968558]  Dallas   \n",
       "50            FenCon  [32.7762719, -96.7968558]  Dallas   \n",
       "67   Lazy Dragon Con   [33.1976496, -96.615447]  Collin   \n",
       "70           Linucon  [30.2711286, -97.7436994]  Travis   \n",
       "121      UnCommonCon  [32.7762719, -96.7968558]  Dallas   \n",
       "\n",
       "                   Location  \n",
       "2    College Station, Texas  \n",
       "4             Dallas, Texas  \n",
       "5            Houston, Texas  \n",
       "9             Austin, Texas  \n",
       "26            Dallas, Texas  \n",
       "50            Dallas, Texas  \n",
       "67          McKinney, Texas  \n",
       "70            Austin, Texas  \n",
       "121           Dallas, Texas  "
      ]
     },
     "execution_count": 274,
     "metadata": {},
     "output_type": "execute_result"
    }
   ],
   "source": [
    "txdata"
   ]
  },
  {
   "cell_type": "code",
   "execution_count": 275,
   "metadata": {
    "collapsed": true
   },
   "outputs": [],
   "source": [
    "txdata.to_csv('TexasCons.csv')"
   ]
  },
  {
   "cell_type": "code",
   "execution_count": null,
   "metadata": {
    "collapsed": true
   },
   "outputs": [],
   "source": []
  }
 ],
 "metadata": {
  "kernelspec": {
   "display_name": "Python 3",
   "language": "python",
   "name": "python3"
  },
  "language_info": {
   "codemirror_mode": {
    "name": "ipython",
    "version": 3
   },
   "file_extension": ".py",
   "mimetype": "text/x-python",
   "name": "python",
   "nbconvert_exporter": "python",
   "pygments_lexer": "ipython3",
   "version": "3.5.1"
  }
 },
 "nbformat": 4,
 "nbformat_minor": 0
}
